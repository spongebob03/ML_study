{
  "nbformat": 4,
  "nbformat_minor": 0,
  "metadata": {
    "kernelspec": {
      "display_name": "Python 3",
      "language": "python",
      "name": "python3"
    },
    "language_info": {
      "codemirror_mode": {
        "name": "ipython",
        "version": 3
      },
      "file_extension": ".py",
      "mimetype": "text/x-python",
      "name": "python",
      "nbconvert_exporter": "python",
      "pygments_lexer": "ipython3",
      "version": "3.8.8"
    },
    "colab": {
      "name": "transformer_tutorial.ipynb",
      "provenance": []
    },
    "accelerator": "GPU"
  },
  "cells": [
    {
      "cell_type": "code",
      "metadata": {
        "id": "5bQhdCSSC9no"
      },
      "source": [
        "%matplotlib inline"
      ],
      "execution_count": 1,
      "outputs": []
    },
    {
      "cell_type": "markdown",
      "metadata": {
        "id": "VpGFn8boC9nr"
      },
      "source": [
        "\n",
        "nn.Transformer 와 TorchText 로 시퀀스-투-시퀀스(Sequence-to-Sequence) 모델링하기\n",
        "=================================================================================\n",
        "\n",
        "이 튜토리얼에서는\n",
        "`nn.Transformer <https://pytorch.org/docs/stable/generated/torch.nn.Transformer.html>`__ 모듈을\n",
        "이용하는 시퀀스-투-시퀀스(Sequence-to-Sequence) 모델을 학습하는 방법을 배워보겠습니다.\n",
        "\n",
        "PyTorch 1.2 버젼에는\n",
        "`Attention is All You Need <https://arxiv.org/pdf/1706.03762.pdf>`__ 논문에\n",
        "기반한 표준 트랜스포머(transformer) 모듈을 포함하고 있습니다.\n",
        "트랜스포머 모델은 더 높은 수준의 병렬화(parallelization)가 가능하면서도\n",
        "많은 시퀀스-투-시퀀스 문제들에서 품질이 우수함이 입증되었습니다.\n",
        "``nn.Transformer`` 모듈은 입력(input) 과 출력(output) 사이의 전역적인 의존성(global dependencies)\n",
        "을 나타내기 위하여 전적으로 어텐션(attention) 메커니즘에 의존합니다.\n",
        "(최근에 또 다른 모듈이 `nn.MultiheadAttention <https://pytorch.org/docs/stable/generated/torch.nn.MultiheadAttention.html>`__ 으로 구현되었습니다.)\n",
        "``nn.Transformer`` 모듈은 현재 모듈화가 매우 잘 되어 있어,\n",
        "다음과 같은 단일 컴포넌트 (이 튜토리얼의 `nn.TransformerEncoder <https://pytorch.org/docs/stable/generated/torch.nn.TransformerEncoder.html>`__ 와 같은)\n",
        "는 쉽게 적용 및 구성될 수 있습니다.\n",
        "\n",
        "![](https://github.com/9bow/PyTorch-Tutorials-kr/blob/master/docs/_downloads/_static/img/transformer_architecture.jpg?raw=1)\n",
        "\n"
      ]
    },
    {
      "cell_type": "markdown",
      "metadata": {
        "id": "AHbEUnt4C9ns"
      },
      "source": [
        "모델 정의하기\n",
        "----------------\n",
        "\n",
        "\n"
      ]
    },
    {
      "cell_type": "markdown",
      "metadata": {
        "id": "S0dTYZnkC9ns"
      },
      "source": [
        "이 튜토리얼에서, 우리는 ``nn.TransformerEncoder`` 모델을 언어 모델링(language modeling) 과제에 대해서 학습시킬 것입니다.\n",
        "언어 모델링 과제는 주어진 단어 (또는 단어의 시퀀스) 가 다음에 이어지는 단어 시퀀스를 따를 가능성(likelihood)에 대한 확률을 할당하는 것입니다.\n",
        "먼저, 토큰(token) 들의 시퀀스가 임베딩(embedding) 레이어로 전달되며, 이어서 포지셔널 인코딩(positional encoding) 레이어가 각 단어의 순서를 설명합니다.\n",
        "(더 자세한 설명은 다음 단락을 참고해주세요.)\n",
        "``nn.TransformerEncoder`` 는 여러 개의\n",
        "`nn.TransformerEncoderLayer <https://pytorch.org/docs/stable/generated/torch.nn.TransformerEncoderLayer.html>`__\n",
        "레이어로 구성되어 있습니다.\n",
        "``nn.TransformerEncoder`` 내부의 셀프-어텐션(self-attention) 레이어들은 시퀀스 안에서의 이전 포지션에만 집중하도록 허용되기 때문에,\n",
        "입력(input) 순서와 함께, 정사각 형태의 어텐션 마스크(attention mask) 가 필요합니다.\n",
        "언어 모델링 과제를 위해서, 미래의 포지션에 있는 모든 토큰들은 마스킹 되어야(가려져야) 합니다.\n",
        "실제 단어를 얻기 위해서, ``nn.TransformerEncoder`` 의 출력은 로그-소프트맥스(log-Softmax) 로 이어지는 최종 선형(Linear) 레이어로 전달 됩니다.\n",
        "\n",
        "\n"
      ]
    },
    {
      "cell_type": "code",
      "metadata": {
        "id": "HLLjrL4TC9nt"
      },
      "source": [
        "import math\n",
        "\n",
        "import torch\n",
        "import torch.nn as nn\n",
        "import torch.nn.functional as F\n",
        "from torch.nn import TransformerEncoder, TransformerEncoderLayer\n",
        "\n",
        "class TransformerModel(nn.Module):\n",
        "\n",
        "    def __init__(self, ntoken, ninp, nhead, nhid, nlayers, dropout=0.5):\n",
        "        super(TransformerModel, self).__init__()\n",
        "        self.model_type = 'Transformer'\n",
        "        self.pos_encoder = PositionalEncoding(ninp, dropout)\n",
        "        encoder_layers = TransformerEncoderLayer(ninp, nhead, nhid, dropout)\n",
        "        self.transformer_encoder = TransformerEncoder(encoder_layers, nlayers)\n",
        "        self.encoder = nn.Embedding(ntoken, ninp)\n",
        "        self.ninp = ninp\n",
        "        self.decoder = nn.Linear(ninp, ntoken)\n",
        "\n",
        "        self.init_weights()\n",
        "\n",
        "    def generate_square_subsequent_mask(self, sz):\n",
        "        mask = (torch.triu(torch.ones(sz, sz)) == 1).transpose(0, 1)\n",
        "        mask = mask.float().masked_fill(mask == 0, float('-inf')).masked_fill(mask == 1, float(0.0))\n",
        "        return mask\n",
        "\n",
        "    def init_weights(self):\n",
        "        initrange = 0.1\n",
        "        self.encoder.weight.data.uniform_(-initrange, initrange)\n",
        "        self.decoder.bias.data.zero_()\n",
        "        self.decoder.weight.data.uniform_(-initrange, initrange)\n",
        "\n",
        "    def forward(self, src, src_mask):\n",
        "        src = self.encoder(src) * math.sqrt(self.ninp)\n",
        "        src = self.pos_encoder(src)\n",
        "        output = self.transformer_encoder(src, src_mask)\n",
        "        output = self.decoder(output)\n",
        "        return output"
      ],
      "execution_count": 2,
      "outputs": []
    },
    {
      "cell_type": "markdown",
      "metadata": {
        "id": "gF0PcKPzC9nt"
      },
      "source": [
        "``PositionalEncoding`` 모듈은 시퀀스 안에서 토큰의 상대적인 또는 절대적인 포지션에 대한 어떤 정보를 주입합니다.\n",
        "포지셔널 인코딩은 임베딩과 합칠 수 있도록 똑같은 차원을 가집니다.\n",
        "여기에서, 우리는 다른 주파수(frequency) 의 ``sine`` 과 ``cosine`` 함수를 사용합니다.\n",
        "\n",
        "\n"
      ]
    },
    {
      "cell_type": "code",
      "metadata": {
        "id": "mEBc_N30C9nu"
      },
      "source": [
        "class PositionalEncoding(nn.Module):\n",
        "\n",
        "    def __init__(self, d_model, dropout=0.1, max_len=5000):\n",
        "        super(PositionalEncoding, self).__init__()\n",
        "        self.dropout = nn.Dropout(p=dropout)\n",
        "\n",
        "        pe = torch.zeros(max_len, d_model)\n",
        "        position = torch.arange(0, max_len, dtype=torch.float).unsqueeze(1)\n",
        "        div_term = torch.exp(torch.arange(0, d_model, 2).float() * (-math.log(10000.0) / d_model))\n",
        "        pe[:, 0::2] = torch.sin(position * div_term)\n",
        "        pe[:, 1::2] = torch.cos(position * div_term)\n",
        "        pe = pe.unsqueeze(0).transpose(0, 1)\n",
        "        self.register_buffer('pe', pe)\n",
        "\n",
        "    def forward(self, x):\n",
        "        x = x + self.pe[:x.size(0), :]\n",
        "        return self.dropout(x)"
      ],
      "execution_count": 3,
      "outputs": []
    },
    {
      "cell_type": "markdown",
      "metadata": {
        "id": "zGBUcuGqC9nu"
      },
      "source": [
        "데이터 로드하고 배치 만들기\n",
        "-----------------------------\n",
        "\n",
        "\n"
      ]
    },
    {
      "cell_type": "markdown",
      "metadata": {
        "id": "JKRY6aUsC9nv"
      },
      "source": [
        "이 튜토리얼에서는 ``torchtext`` 를 사용하여 Wikitext-2 데이터셋을 생성합니다.\n",
        "단어 오브젝트는 훈련 데이터셋(train dataset) 에 의하여 만들어지고, 토큰을 텐서(tensor)로 수치화하는데 사용됩니다.\n",
        "시퀀스 데이터로부터 시작하여, ``batchify()`` 함수는 데이터셋을 컬럼들로 배열하고, ``batch_size`` 사이즈의 배치들로 나눈 후에 남은 모든 토큰을 버립니다.\n",
        "예를 들어, 알파벳을 시퀀스(총 길이 26) 로 생각하고 배치 사이즈를 4라고 한다면, 우리는 알파벳을 길이가 6인 4개의 시퀀스로 나눌 수 있습니다.\n",
        "\n",
        "\\begin{align}\\begin{bmatrix}\n",
        "  \\text{A} & \\text{B} & \\text{C} & \\ldots & \\text{X} & \\text{Y} & \\text{Z}\n",
        "  \\end{bmatrix}\n",
        "  \\Rightarrow\n",
        "  \\begin{bmatrix}\n",
        "  \\begin{bmatrix}\\text{A} \\\\ \\text{B} \\\\ \\text{C} \\\\ \\text{D} \\\\ \\text{E} \\\\ \\text{F}\\end{bmatrix} &\n",
        "  \\begin{bmatrix}\\text{G} \\\\ \\text{H} \\\\ \\text{I} \\\\ \\text{J} \\\\ \\text{K} \\\\ \\text{L}\\end{bmatrix} &\n",
        "  \\begin{bmatrix}\\text{M} \\\\ \\text{N} \\\\ \\text{O} \\\\ \\text{P} \\\\ \\text{Q} \\\\ \\text{R}\\end{bmatrix} &\n",
        "  \\begin{bmatrix}\\text{S} \\\\ \\text{T} \\\\ \\text{U} \\\\ \\text{V} \\\\ \\text{W} \\\\ \\text{X}\\end{bmatrix}\n",
        "  \\end{bmatrix}\\end{align}\n",
        "\n",
        "이 컬럼들은 모델에 의해서 독립적으로 취급되며, 이것은 더 효율적인 배치 프로세싱(batch processing) 이 가능하지만, ``G`` 와 ``F`` 의 의존성이 학습될 수 없다는 것을 의미합니다.\n",
        "\n",
        "\n"
      ]
    },
    {
      "cell_type": "code",
      "metadata": {
        "id": "hybkF_0VC9nw",
        "outputId": "e5aeabbb-0326-40bf-ee80-9aba40b5dea7",
        "colab": {
          "base_uri": "https://localhost:8080/"
        }
      },
      "source": [
        "import torch\n",
        "from torchtext.datasets import WikiText2\n",
        "from torchtext.data.utils import get_tokenizer\n",
        "from torchtext.vocab import build_vocab_from_iterator\n",
        "\n",
        "train_iter = WikiText2(split='train')\n",
        "tokenizer = get_tokenizer('basic_english')\n",
        "vocab = build_vocab_from_iterator(map(tokenizer, train_iter), specials=[\"<unk>\"])\n",
        "vocab.set_default_index(vocab[\"<unk>\"])\n",
        "\n",
        "def data_process(raw_text_iter):\n",
        "  data = [torch.tensor(vocab(tokenizer(item)), dtype=torch.long) for item in raw_text_iter]\n",
        "  return torch.cat(tuple(filter(lambda t: t.numel() > 0, data)))\n",
        "\n",
        "train_iter, val_iter, test_iter = WikiText2()\n",
        "train_data = data_process(train_iter)\n",
        "val_data = data_process(val_iter)\n",
        "test_data = data_process(test_iter)\n",
        "\n",
        "device = torch.device(\"cuda\" if torch.cuda.is_available() else \"cpu\")\n",
        "\n",
        "def batchify(data, bsz):\n",
        "    # 데이터셋을 bsz 파트들로 나눕니다.\n",
        "    nbatch = data.size(0) // bsz\n",
        "    # 깔끔하게 나누어 떨어지지 않는 추가적인 부분(나머지들) 은 잘라냅니다.\n",
        "    data = data.narrow(0, 0, nbatch * bsz)\n",
        "    # 데이터에 대하여 bsz 배치들로 동등하게 나눕니다.\n",
        "    data = data.view(bsz, -1).t().contiguous()\n",
        "    return data.to(device)\n",
        "\n",
        "batch_size = 20\n",
        "eval_batch_size = 10\n",
        "train_data = batchify(train_data, batch_size)\n",
        "val_data = batchify(val_data, eval_batch_size)\n",
        "test_data = batchify(test_data, eval_batch_size)"
      ],
      "execution_count": 4,
      "outputs": [
        {
          "output_type": "stream",
          "text": [
            "wikitext-2-v1.zip: 100%|██████████| 4.48M/4.48M [00:00<00:00, 8.68MB/s]\n"
          ],
          "name": "stderr"
        }
      ]
    },
    {
      "cell_type": "markdown",
      "metadata": {
        "id": "jwjEIH5nC9nw"
      },
      "source": [
        "입력(input) 과 타겟(target) 시퀀스를 생성하기 위한 함수들\n",
        "~~~~~~~~~~~~~~~~~~~~~~~~~~~~~~~~~~~~~~~~~~~~~~~~~~~~~~~~~~~\n",
        "\n",
        "\n"
      ]
    },
    {
      "cell_type": "markdown",
      "metadata": {
        "id": "_Fd6snwUC9nx"
      },
      "source": [
        "``get_batch()`` 함수는 트랜스포머 모델을 위한 입력과 타겟 시퀀스를 생성합니다.\n",
        "이 함수는 소스 데이터를 ``bptt`` 길이를 가진 덩어리로 세분화 합니다.\n",
        "언어 모델링 과제를 위해서, 모델은 다음 단어인 ``Target`` 이 필요 합니다.\n",
        "예를 들어, ``bptt`` 의 값이 2 라면, 우리는 ``i`` = 0 일 때 다음의 2 개의 변수(Variable) 를 얻을 수 있습니다:\n",
        "\n",
        "![](https://github.com/9bow/PyTorch-Tutorials-kr/blob/master/docs/_downloads/_static/img/transformer_input_target.png?raw=1)\n",
        "\n",
        "\n",
        "변수 덩어리는 트랜스포머 모델의 ``S`` 차원과 일치하는 0 차원에 해당합니다.\n",
        "배치 차원 ``N`` 은 1 차원에 해당합니다.\n",
        "\n",
        "\n"
      ]
    },
    {
      "cell_type": "code",
      "metadata": {
        "id": "ZUIT3C2GC9nx"
      },
      "source": [
        "bptt = 35\n",
        "def get_batch(source, i):\n",
        "    seq_len = min(bptt, len(source) - 1 - i)\n",
        "    data = source[i:i+seq_len]\n",
        "    target = source[i+1:i+1+seq_len].reshape(-1)\n",
        "    return data, target"
      ],
      "execution_count": 5,
      "outputs": []
    },
    {
      "cell_type": "markdown",
      "metadata": {
        "id": "_McfZcgHC9nx"
      },
      "source": [
        "인스턴스(instance) 초기화하기\n",
        "--------------------------------\n",
        "\n",
        "\n"
      ]
    },
    {
      "cell_type": "markdown",
      "metadata": {
        "id": "9KrQnuThC9ny"
      },
      "source": [
        "모델은 아래와 같은 하이퍼파라미터(hyperparameter) 로 세팅 됩니다.\n",
        "단어 사이즈는 단어 오브젝트의 길이와 일치 합니다.\n",
        "\n",
        "\n"
      ]
    },
    {
      "cell_type": "code",
      "metadata": {
        "id": "_2feNNR4C9ny"
      },
      "source": [
        "ntokens = len(vocab) # 단어 사전(어휘집)의 크기\n",
        "emsize = 200 # 임베딩 차원\n",
        "nhid = 200 # nn.TransformerEncoder 에서 피드포워드 네트워크(feedforward network) 모델의 차원\n",
        "nlayers = 2 # nn.TransformerEncoder 내부의 nn.TransformerEncoderLayer 개수\n",
        "nhead = 2 # 멀티헤드 어텐션(multi-head attention) 모델의 헤드 개수\n",
        "dropout = 0.2 # 드랍아웃(dropout) 값\n",
        "model = TransformerModel(ntokens, emsize, nhead, nhid, nlayers, dropout).to(device)"
      ],
      "execution_count": 6,
      "outputs": []
    },
    {
      "cell_type": "markdown",
      "metadata": {
        "id": "KvyIowIEC9ny"
      },
      "source": [
        "모델 실행하기\n",
        "-------------\n",
        "\n",
        "\n"
      ]
    },
    {
      "cell_type": "markdown",
      "metadata": {
        "id": "8EYGn5n4C9ny"
      },
      "source": [
        "손실(loss) 을 추적하는 데에는\n",
        "`CrossEntropyLoss <https://pytorch.org/docs/master/nn.html?highlight=crossentropyloss#torch.nn.CrossEntropyLoss>`__\n",
        "가 적용되며, 옵티마이저(optimizer) 로서\n",
        "`SGD <https://pytorch.org/docs/master/optim.html?highlight=sgd#torch.optim.SGD>`__\n",
        "는 확률적 경사 하강법(stochastic gradient descent method) 을 구현합니다.\n",
        "초기 학습률(learning rate) 은 5.0 으로 설정됩니다.\n",
        "`StepLR <https://pytorch.org/docs/master/optim.html?highlight=steplr#torch.optim.lr_scheduler.StepLR>`__\n",
        "은 에포크(epoch) 에 따라서 학습률을 조절하는데 사용됩니다.\n",
        "학습하는 동안에, 우리는 기울기 폭발(gradient exploding) 을 방지하기 위하여 모든 기울기를 함께 스케일(scale) 하는 함수인\n",
        "`nn.utils.clip_grad_norm\\_ <https://pytorch.org/docs/master/nn.html?highlight=nn%20utils%20clip_grad_norm#torch.nn.utils.clip_grad_norm_>`__\n",
        "을 이용합니다.\n",
        "\n",
        "\n"
      ]
    },
    {
      "cell_type": "code",
      "metadata": {
        "id": "-IolHpO6C9nz"
      },
      "source": [
        "import time\n",
        "\n",
        "criterion = nn.CrossEntropyLoss()\n",
        "lr = 5.0 # 학습률\n",
        "optimizer = torch.optim.SGD(model.parameters(), lr=lr)\n",
        "scheduler = torch.optim.lr_scheduler.StepLR(optimizer, 1.0, gamma=0.95)\n",
        "\n",
        "def train():\n",
        "    model.train() # 학습 모드를 시작합니다.\n",
        "    total_loss = 0.\n",
        "    start_time = time.time()\n",
        "    src_mask = model.generate_square_subsequent_mask(bptt).to(device)\n",
        "    for batch, i in enumerate(range(0, train_data.size(0) - 1, bptt)):\n",
        "        data, targets = get_batch(train_data, i)\n",
        "        optimizer.zero_grad()\n",
        "        if data.size(0) != bptt:\n",
        "            src_mask = model.generate_square_subsequent_mask(data.size(0)).to(device)\n",
        "        output = model(data, src_mask)\n",
        "        loss = criterion(output.view(-1, ntokens), targets)\n",
        "        loss.backward()\n",
        "        torch.nn.utils.clip_grad_norm_(model.parameters(), 0.5)\n",
        "        optimizer.step()\n",
        "\n",
        "        total_loss += loss.item()\n",
        "        log_interval = 200\n",
        "        if batch % log_interval == 0 and batch > 0:\n",
        "            cur_loss = total_loss / log_interval\n",
        "            elapsed = time.time() - start_time\n",
        "            print('| epoch {:3d} | {:5d}/{:5d} batches | '\n",
        "                  'lr {:02.2f} | ms/batch {:5.2f} | '\n",
        "                  'loss {:5.2f} | ppl {:8.2f}'.format(\n",
        "                    epoch, batch, len(train_data) // bptt, scheduler.get_last_lr()[0],\n",
        "                    elapsed * 1000 / log_interval,\n",
        "                    cur_loss, math.exp(cur_loss)))\n",
        "            total_loss = 0\n",
        "            start_time = time.time()\n",
        "\n",
        "def evaluate(eval_model, data_source):\n",
        "    eval_model.eval() # 평가 모드를 시작합니다.\n",
        "    total_loss = 0.\n",
        "    src_mask = model.generate_square_subsequent_mask(bptt).to(device)\n",
        "    with torch.no_grad():\n",
        "        for i in range(0, data_source.size(0) - 1, bptt):\n",
        "            data, targets = get_batch(data_source, i)\n",
        "            if data.size(0) != bptt:\n",
        "                src_mask = model.generate_square_subsequent_mask(data.size(0)).to(device)\n",
        "            output = eval_model(data, src_mask)\n",
        "            output_flat = output.view(-1, ntokens)\n",
        "            total_loss += len(data) * criterion(output_flat, targets).item()\n",
        "    return total_loss / (len(data_source) - 1)"
      ],
      "execution_count": 7,
      "outputs": []
    },
    {
      "cell_type": "markdown",
      "metadata": {
        "id": "DeoZeHT5C9nz"
      },
      "source": [
        "에포크 내에서 반복됩니다. 만약 검증 오차(validation loss) 가 우리가 지금까지 관찰한 것 중 최적이라면 모델을 저장합니다.\n",
        "매 에포크 이후에 학습률을 조절합니다.\n",
        "\n"
      ]
    },
    {
      "cell_type": "code",
      "metadata": {
        "id": "5f-vs-sYC9nz",
        "outputId": "de15c313-c0b6-441c-df70-5ea4d2da2402",
        "colab": {
          "base_uri": "https://localhost:8080/"
        }
      },
      "source": [
        "best_val_loss = float(\"inf\")\n",
        "epochs = 3 # 에포크 수\n",
        "best_model = None\n",
        "\n",
        "for epoch in range(1, epochs + 1):\n",
        "    epoch_start_time = time.time()\n",
        "    train()\n",
        "    val_loss = evaluate(model, val_data)\n",
        "    print('-' * 89)\n",
        "    print('| end of epoch {:3d} | time: {:5.2f}s | valid loss {:5.2f} | '\n",
        "          'valid ppl {:8.2f}'.format(epoch, (time.time() - epoch_start_time),\n",
        "                                     val_loss, math.exp(val_loss)))\n",
        "    print('-' * 89)\n",
        "\n",
        "    if val_loss < best_val_loss:\n",
        "        best_val_loss = val_loss\n",
        "        best_model = model\n",
        "\n",
        "    scheduler.step()"
      ],
      "execution_count": 8,
      "outputs": [
        {
          "output_type": "stream",
          "text": [
            "| epoch   1 |   200/ 2928 batches | lr 5.00 | ms/batch 17.70 | loss  8.19 | ppl  3606.05\n",
            "| epoch   1 |   400/ 2928 batches | lr 5.00 | ms/batch 15.89 | loss  6.90 | ppl   988.25\n",
            "| epoch   1 |   600/ 2928 batches | lr 5.00 | ms/batch 15.90 | loss  6.45 | ppl   630.58\n",
            "| epoch   1 |   800/ 2928 batches | lr 5.00 | ms/batch 15.99 | loss  6.29 | ppl   539.56\n",
            "| epoch   1 |  1000/ 2928 batches | lr 5.00 | ms/batch 15.94 | loss  6.18 | ppl   485.27\n",
            "| epoch   1 |  1200/ 2928 batches | lr 5.00 | ms/batch 16.00 | loss  6.16 | ppl   471.61\n",
            "| epoch   1 |  1400/ 2928 batches | lr 5.00 | ms/batch 16.04 | loss  6.11 | ppl   449.98\n",
            "| epoch   1 |  1600/ 2928 batches | lr 5.00 | ms/batch 16.07 | loss  6.11 | ppl   448.31\n",
            "| epoch   1 |  1800/ 2928 batches | lr 5.00 | ms/batch 16.07 | loss  6.02 | ppl   410.80\n",
            "| epoch   1 |  2000/ 2928 batches | lr 5.00 | ms/batch 16.16 | loss  6.01 | ppl   409.43\n",
            "| epoch   1 |  2200/ 2928 batches | lr 5.00 | ms/batch 16.14 | loss  5.88 | ppl   359.28\n",
            "| epoch   1 |  2400/ 2928 batches | lr 5.00 | ms/batch 16.22 | loss  5.97 | ppl   390.09\n",
            "| epoch   1 |  2600/ 2928 batches | lr 5.00 | ms/batch 16.26 | loss  5.94 | ppl   381.35\n",
            "| epoch   1 |  2800/ 2928 batches | lr 5.00 | ms/batch 16.28 | loss  5.88 | ppl   356.20\n",
            "-----------------------------------------------------------------------------------------\n",
            "| end of epoch   1 | time: 49.27s | valid loss  5.80 | valid ppl   331.46\n",
            "-----------------------------------------------------------------------------------------\n",
            "| epoch   2 |   200/ 2928 batches | lr 4.75 | ms/batch 16.34 | loss  5.86 | ppl   352.17\n",
            "| epoch   2 |   400/ 2928 batches | lr 4.75 | ms/batch 16.33 | loss  5.85 | ppl   346.84\n",
            "| epoch   2 |   600/ 2928 batches | lr 4.75 | ms/batch 16.32 | loss  5.66 | ppl   288.47\n",
            "| epoch   2 |   800/ 2928 batches | lr 4.75 | ms/batch 16.32 | loss  5.69 | ppl   296.79\n",
            "| epoch   2 |  1000/ 2928 batches | lr 4.75 | ms/batch 16.40 | loss  5.65 | ppl   284.36\n",
            "| epoch   2 |  1200/ 2928 batches | lr 4.75 | ms/batch 16.35 | loss  5.67 | ppl   290.23\n",
            "| epoch   2 |  1400/ 2928 batches | lr 4.75 | ms/batch 16.42 | loss  5.69 | ppl   294.68\n",
            "| epoch   2 |  1600/ 2928 batches | lr 4.75 | ms/batch 16.41 | loss  5.71 | ppl   300.49\n",
            "| epoch   2 |  1800/ 2928 batches | lr 4.75 | ms/batch 16.46 | loss  5.64 | ppl   282.62\n",
            "| epoch   2 |  2000/ 2928 batches | lr 4.75 | ms/batch 16.46 | loss  5.66 | ppl   288.55\n",
            "| epoch   2 |  2200/ 2928 batches | lr 4.75 | ms/batch 16.49 | loss  5.54 | ppl   255.81\n",
            "| epoch   2 |  2400/ 2928 batches | lr 4.75 | ms/batch 16.53 | loss  5.65 | ppl   283.48\n",
            "| epoch   2 |  2600/ 2928 batches | lr 4.75 | ms/batch 16.55 | loss  5.65 | ppl   283.14\n",
            "| epoch   2 |  2800/ 2928 batches | lr 4.75 | ms/batch 16.54 | loss  5.58 | ppl   265.66\n",
            "-----------------------------------------------------------------------------------------\n",
            "| end of epoch   2 | time: 49.99s | valid loss  5.67 | valid ppl   288.94\n",
            "-----------------------------------------------------------------------------------------\n",
            "| epoch   3 |   200/ 2928 batches | lr 4.51 | ms/batch 16.73 | loss  5.61 | ppl   272.00\n",
            "| epoch   3 |   400/ 2928 batches | lr 4.51 | ms/batch 16.64 | loss  5.62 | ppl   275.03\n",
            "| epoch   3 |   600/ 2928 batches | lr 4.51 | ms/batch 16.68 | loss  5.43 | ppl   227.54\n",
            "| epoch   3 |   800/ 2928 batches | lr 4.51 | ms/batch 16.68 | loss  5.48 | ppl   239.34\n",
            "| epoch   3 |  1000/ 2928 batches | lr 4.51 | ms/batch 16.72 | loss  5.43 | ppl   228.85\n",
            "| epoch   3 |  1200/ 2928 batches | lr 4.51 | ms/batch 16.77 | loss  5.47 | ppl   237.92\n",
            "| epoch   3 |  1400/ 2928 batches | lr 4.51 | ms/batch 16.71 | loss  5.49 | ppl   241.19\n",
            "| epoch   3 |  1600/ 2928 batches | lr 4.51 | ms/batch 16.78 | loss  5.52 | ppl   249.85\n",
            "| epoch   3 |  1800/ 2928 batches | lr 4.51 | ms/batch 16.78 | loss  5.47 | ppl   236.54\n",
            "| epoch   3 |  2000/ 2928 batches | lr 4.51 | ms/batch 16.75 | loss  5.48 | ppl   239.83\n",
            "| epoch   3 |  2200/ 2928 batches | lr 4.51 | ms/batch 16.78 | loss  5.35 | ppl   211.38\n",
            "| epoch   3 |  2400/ 2928 batches | lr 4.51 | ms/batch 16.74 | loss  5.46 | ppl   235.71\n",
            "| epoch   3 |  2600/ 2928 batches | lr 4.51 | ms/batch 16.73 | loss  5.47 | ppl   236.60\n",
            "| epoch   3 |  2800/ 2928 batches | lr 4.51 | ms/batch 16.69 | loss  5.40 | ppl   221.74\n",
            "-----------------------------------------------------------------------------------------\n",
            "| end of epoch   3 | time: 50.85s | valid loss  5.57 | valid ppl   262.55\n",
            "-----------------------------------------------------------------------------------------\n"
          ],
          "name": "stdout"
        }
      ]
    },
    {
      "cell_type": "markdown",
      "metadata": {
        "id": "XRq6GpayC9n0"
      },
      "source": [
        "평가 데이터셋(test dataset)으로 모델을 평가하기\n",
        "-------------------------------------------------\n",
        "\n",
        "평가 데이터셋에 대한 결과를 확인하기 위해서 최고의 모델을 적용합니다.\n",
        "\n"
      ]
    },
    {
      "cell_type": "code",
      "metadata": {
        "id": "k3O9ki7bC9n0",
        "outputId": "771e4b9d-0532-4620-b866-7a39d32704f7",
        "colab": {
          "base_uri": "https://localhost:8080/"
        }
      },
      "source": [
        "test_loss = evaluate(best_model, test_data)\n",
        "print('=' * 89)\n",
        "print('| End of training | test loss {:5.2f} | test ppl {:8.2f}'.format(\n",
        "    test_loss, math.exp(test_loss)))\n",
        "print('=' * 89)"
      ],
      "execution_count": 9,
      "outputs": [
        {
          "output_type": "stream",
          "text": [
            "=========================================================================================\n",
            "| End of training | test loss  5.48 | test ppl   240.28\n",
            "=========================================================================================\n"
          ],
          "name": "stdout"
        }
      ]
    }
  ]
}